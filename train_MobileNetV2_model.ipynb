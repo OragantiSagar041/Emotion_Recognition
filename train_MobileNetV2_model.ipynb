{
 "cells": [
  {
   "cell_type": "code",
   "execution_count": 2,
   "id": "4a3b346d",
   "metadata": {},
   "outputs": [],
   "source": [
    "import tensorflow as tf\n",
    "from tensorflow.keras.preprocessing.image import ImageDataGenerator\n",
    "from tensorflow.keras.applications import MobileNetV2\n",
    "from tensorflow.keras.models import Model, Sequential\n",
    "from tensorflow.keras.layers import Dense, Dropout, GlobalAveragePooling2D\n",
    "from tensorflow.keras.callbacks import ModelCheckpoint, EarlyStopping\n"
   ]
  },
  {
   "cell_type": "code",
   "execution_count": 3,
   "id": "61592c08",
   "metadata": {},
   "outputs": [],
   "source": [
    "# -------------------------------\n",
    "# Paths to dataset\n",
    "# -------------------------------\n",
    "train_dir = r\"C:\\Users\\kotaa\\Downloads\\emotion_recognition_1\\emotion_recognition\\data\\train\"\n",
    "test_dir  = r\"C:\\Users\\kotaa\\Downloads\\emotion_recognition_1\\emotion_recognition\\data\\test\"\n",
    "\n",
    "# -----"
   ]
  },
  {
   "cell_type": "code",
   "execution_count": 4,
   "id": "206b7a18",
   "metadata": {},
   "outputs": [
    {
     "name": "stdout",
     "output_type": "stream",
     "text": [
      "Found 28709 images belonging to 7 classes.\n",
      "Found 7178 images belonging to 7 classes.\n"
     ]
    }
   ],
   "source": [
    "# -------------------------------\n",
    "# Image Data Generators\n",
    "# -------------------------------\n",
    "train_datagen = ImageDataGenerator(\n",
    "    rescale=1./255,\n",
    "    rotation_range=20,\n",
    "    width_shift_range=0.2,\n",
    "    height_shift_range=0.2,\n",
    "    shear_range=0.2,\n",
    "    zoom_range=0.2,\n",
    "    horizontal_flip=True\n",
    ")\n",
    "\n",
    "test_datagen = ImageDataGenerator(rescale=1./255)\n",
    "\n",
    "img_height, img_width = 224, 224   # MobileNetV2 expects 224x224\n",
    "\n",
    "train_generator = train_datagen.flow_from_directory(\n",
    "    train_dir,\n",
    "    target_size=(img_height, img_width),\n",
    "    batch_size=64,\n",
    "    class_mode=\"categorical\"\n",
    ")\n",
    "\n",
    "validation_generator = test_datagen.flow_from_directory(\n",
    "    test_dir,\n",
    "    target_size=(img_height, img_width),\n",
    "    batch_size=64,\n",
    "    class_mode=\"categorical\"\n",
    ")\n",
    "\n"
   ]
  },
  {
   "cell_type": "code",
   "execution_count": 5,
   "id": "9069f9ca",
   "metadata": {},
   "outputs": [],
   "source": [
    "# -------------------------------\n",
    "# Pretrained MobileNetV2 Model\n",
    "# -------------------------------\n",
    "base_model = MobileNetV2(weights=\"imagenet\", include_top=False, input_shape=(img_height, img_width, 3))\n",
    "base_model.trainable = False  # Freeze base model\n",
    "\n",
    "# Add custom classifier on top\n",
    "model = Sequential([\n",
    "    base_model,\n",
    "    GlobalAveragePooling2D(),\n",
    "    Dense(256, activation=\"relu\"),\n",
    "    Dropout(0.5),\n",
    "    Dense(train_generator.num_classes, activation=\"softmax\")\n",
    "])"
   ]
  },
  {
   "cell_type": "code",
   "execution_count": 6,
   "id": "7eda4328",
   "metadata": {},
   "outputs": [],
   "source": [
    "# -------------------------------\n",
    "# Compile Model\n",
    "# -------------------------------\n",
    "model.compile(\n",
    "    optimizer=tf.keras.optimizers.Adam(learning_rate=1e-4),\n",
    "    loss=\"categorical_crossentropy\",\n",
    "    metrics=[\"accuracy\"]\n",
    ")"
   ]
  },
  {
   "cell_type": "code",
   "execution_count": 7,
   "id": "5ac27f71",
   "metadata": {},
   "outputs": [],
   "source": [
    "# -------------------------------\n",
    "# Callbacks\n",
    "# -------------------------------\n",
    "checkpoint = ModelCheckpoint(\"emotion_mobilenetv2.h5\", monitor=\"val_accuracy\", save_best_only=True, verbose=1)\n",
    "early_stop = EarlyStopping(monitor=\"val_loss\", patience=5, restore_best_weights=True)\n"
   ]
  },
  {
   "cell_type": "code",
   "execution_count": 9,
   "id": "cb96845b",
   "metadata": {},
   "outputs": [
    {
     "name": "stdout",
     "output_type": "stream",
     "text": [
      "Epoch 1/13\n",
      "449/449 [==============================] - ETA: 0s - loss: 1.8271 - accuracy: 0.2709\n",
      "Epoch 1: val_accuracy improved from -inf to 0.35093, saving model to emotion_mobilenetv2.h5\n",
      "449/449 [==============================] - 430s 951ms/step - loss: 1.8271 - accuracy: 0.2709 - val_loss: 1.6646 - val_accuracy: 0.3509\n",
      "Epoch 2/13\n",
      "449/449 [==============================] - ETA: 0s - loss: 1.6804 - accuracy: 0.3360\n",
      "Epoch 2: val_accuracy improved from 0.35093 to 0.38729, saving model to emotion_mobilenetv2.h5\n",
      "449/449 [==============================] - 441s 982ms/step - loss: 1.6804 - accuracy: 0.3360 - val_loss: 1.6060 - val_accuracy: 0.3873\n",
      "Epoch 3/13\n",
      "449/449 [==============================] - ETA: 0s - loss: 1.6466 - accuracy: 0.3517\n",
      "Epoch 3: val_accuracy improved from 0.38729 to 0.39691, saving model to emotion_mobilenetv2.h5\n",
      "449/449 [==============================] - 418s 930ms/step - loss: 1.6466 - accuracy: 0.3517 - val_loss: 1.5696 - val_accuracy: 0.3969\n",
      "Epoch 4/13\n",
      "449/449 [==============================] - ETA: 0s - loss: 1.6199 - accuracy: 0.3656\n",
      "Epoch 4: val_accuracy improved from 0.39691 to 0.39900, saving model to emotion_mobilenetv2.h5\n",
      "449/449 [==============================] - 403s 898ms/step - loss: 1.6199 - accuracy: 0.3656 - val_loss: 1.5514 - val_accuracy: 0.3990\n",
      "Epoch 5/13\n",
      "449/449 [==============================] - ETA: 0s - loss: 1.6009 - accuracy: 0.3779\n",
      "Epoch 5: val_accuracy improved from 0.39900 to 0.41836, saving model to emotion_mobilenetv2.h5\n",
      "449/449 [==============================] - 376s 838ms/step - loss: 1.6009 - accuracy: 0.3779 - val_loss: 1.5386 - val_accuracy: 0.4184\n",
      "Epoch 6/13\n",
      "449/449 [==============================] - ETA: 0s - loss: 1.5847 - accuracy: 0.3833\n",
      "Epoch 6: val_accuracy improved from 0.41836 to 0.42087, saving model to emotion_mobilenetv2.h5\n",
      "449/449 [==============================] - 384s 856ms/step - loss: 1.5847 - accuracy: 0.3833 - val_loss: 1.5196 - val_accuracy: 0.4209\n",
      "Epoch 7/13\n",
      "449/449 [==============================] - ETA: 0s - loss: 1.5690 - accuracy: 0.3890\n",
      "Epoch 7: val_accuracy did not improve from 0.42087\n",
      "449/449 [==============================] - 397s 884ms/step - loss: 1.5690 - accuracy: 0.3890 - val_loss: 1.5107 - val_accuracy: 0.4206\n",
      "Epoch 8/13\n",
      "449/449 [==============================] - ETA: 0s - loss: 1.5680 - accuracy: 0.3892\n",
      "Epoch 8: val_accuracy improved from 0.42087 to 0.42951, saving model to emotion_mobilenetv2.h5\n",
      "449/449 [==============================] - 365s 812ms/step - loss: 1.5680 - accuracy: 0.3892 - val_loss: 1.4945 - val_accuracy: 0.4295\n",
      "Epoch 9/13\n",
      "449/449 [==============================] - ETA: 0s - loss: 1.5545 - accuracy: 0.3955\n",
      "Epoch 9: val_accuracy improved from 0.42951 to 0.43076, saving model to emotion_mobilenetv2.h5\n",
      "449/449 [==============================] - 367s 816ms/step - loss: 1.5545 - accuracy: 0.3955 - val_loss: 1.4896 - val_accuracy: 0.4308\n",
      "Epoch 10/13\n",
      "449/449 [==============================] - ETA: 0s - loss: 1.5460 - accuracy: 0.4002\n",
      "Epoch 10: val_accuracy did not improve from 0.43076\n",
      "449/449 [==============================] - 357s 795ms/step - loss: 1.5460 - accuracy: 0.4002 - val_loss: 1.4922 - val_accuracy: 0.4270\n",
      "Epoch 11/13\n",
      "449/449 [==============================] - ETA: 0s - loss: 1.5376 - accuracy: 0.4065\n",
      "Epoch 11: val_accuracy improved from 0.43076 to 0.43773, saving model to emotion_mobilenetv2.h5\n",
      "449/449 [==============================] - 334s 744ms/step - loss: 1.5376 - accuracy: 0.4065 - val_loss: 1.4749 - val_accuracy: 0.4377\n",
      "Epoch 12/13\n",
      "449/449 [==============================] - ETA: 0s - loss: 1.5358 - accuracy: 0.4061\n",
      "Epoch 12: val_accuracy improved from 0.43773 to 0.43856, saving model to emotion_mobilenetv2.h5\n",
      "449/449 [==============================] - 332s 739ms/step - loss: 1.5358 - accuracy: 0.4061 - val_loss: 1.4694 - val_accuracy: 0.4386\n",
      "Epoch 13/13\n",
      "449/449 [==============================] - ETA: 0s - loss: 1.5209 - accuracy: 0.4136\n",
      "Epoch 13: val_accuracy improved from 0.43856 to 0.44191, saving model to emotion_mobilenetv2.h5\n",
      "449/449 [==============================] - 337s 750ms/step - loss: 1.5209 - accuracy: 0.4136 - val_loss: 1.4650 - val_accuracy: 0.4419\n"
     ]
    }
   ],
   "source": [
    "# -------------------------------\n",
    "# Train Model\n",
    "# -------------------------------\n",
    "history = model.fit(\n",
    "    train_generator,\n",
    "    validation_data=validation_generator,\n",
    "    epochs=13,\n",
    "    callbacks=[checkpoint, early_stop]\n",
    ")\n"
   ]
  },
  {
   "cell_type": "code",
   "execution_count": 10,
   "id": "b0dde39a",
   "metadata": {},
   "outputs": [
    {
     "name": "stdout",
     "output_type": "stream",
     "text": [
      "113/113 [==============================] - 56s 491ms/step - loss: 1.4650 - accuracy: 0.4419\n",
      "✅ Test Accuracy: 44.19%\n"
     ]
    }
   ],
   "source": [
    "# -------------------------------\n",
    "# Evaluate\n",
    "# -------------------------------\n",
    "loss, acc = model.evaluate(validation_generator)\n",
    "print(f\"✅ Test Accuracy: {acc*100:.2f}%\")\n"
   ]
  },
  {
   "cell_type": "code",
   "execution_count": 11,
   "id": "26e87582",
   "metadata": {},
   "outputs": [
    {
     "name": "stdout",
     "output_type": "stream",
     "text": [
      "🎉 Transfer Learning Model training completed and saved!\n"
     ]
    }
   ],
   "source": [
    "model.save(\"final_emotion_mobilenetv2.h5\")\n",
    "print(\"🎉 Transfer Learning Model training completed and saved!\")\n"
   ]
  }
 ],
 "metadata": {
  "kernelspec": {
   "display_name": "Python 3",
   "language": "python",
   "name": "python3"
  },
  "language_info": {
   "codemirror_mode": {
    "name": "ipython",
    "version": 3
   },
   "file_extension": ".py",
   "mimetype": "text/x-python",
   "name": "python",
   "nbconvert_exporter": "python",
   "pygments_lexer": "ipython3",
   "version": "3.10.11"
  }
 },
 "nbformat": 4,
 "nbformat_minor": 5
}
