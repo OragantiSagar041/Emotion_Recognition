{
 "cells": [
  {
   "cell_type": "code",
   "execution_count": 1,
   "id": "838020de",
   "metadata": {},
   "outputs": [],
   "source": [
    "import tensorflow as tf\n",
    "from tensorflow.keras.preprocessing.image import ImageDataGenerator\n",
    "from tensorflow.keras.models import Sequential, Model\n",
    "from tensorflow.keras.layers import Conv2D, MaxPooling2D, Flatten, Dense, Dropout, TimeDistributed, LSTM\n",
    "from tensorflow.keras.optimizers import Adam\n"
   ]
  },
  {
   "cell_type": "code",
   "execution_count": 2,
   "id": "18f34b89",
   "metadata": {},
   "outputs": [],
   "source": [
    "# -------------------------------\n",
    "# Paths to dataset\n",
    "# -------------------------------\n",
    "train_dir = r\"C:\\Users\\kotaa\\Downloads\\emotion_recognition_1\\emotion_recognition\\data\\train\"\n",
    "test_dir  = r\"C:\\Users\\kotaa\\Downloads\\emotion_recognition_1\\emotion_recognition\\data\\test\"\n"
   ]
  },
  {
   "cell_type": "code",
   "execution_count": 3,
   "id": "dd4d8754",
   "metadata": {},
   "outputs": [
    {
     "name": "stdout",
     "output_type": "stream",
     "text": [
      "Found 28709 images belonging to 7 classes.\n",
      "Found 7178 images belonging to 7 classes.\n"
     ]
    }
   ],
   "source": [
    "# -------------------------------\n",
    "# Image Data Generators\n",
    "# -------------------------------\n",
    "train_datagen = ImageDataGenerator(rescale=1./255)\n",
    "test_datagen = ImageDataGenerator(rescale=1./255)\n",
    "\n",
    "img_height, img_width = 48, 48   # grayscale FER dataset usually 48x48\n",
    "sequence_length = 10             # number of frames per sequence\n",
    "\n",
    "train_generator = train_datagen.flow_from_directory(\n",
    "    train_dir,\n",
    "    target_size=(img_height, img_width),\n",
    "    batch_size=32,\n",
    "    class_mode=\"categorical\",\n",
    "    color_mode=\"grayscale\"\n",
    ")\n",
    "\n",
    "validation_generator = test_datagen.flow_from_directory(\n",
    "    test_dir,\n",
    "    target_size=(img_height, img_width),\n",
    "    batch_size=32,\n",
    "    class_mode=\"categorical\",\n",
    "    color_mode=\"grayscale\"\n",
    ")"
   ]
  },
  {
   "cell_type": "code",
   "execution_count": 4,
   "id": "938771a6",
   "metadata": {},
   "outputs": [],
   "source": [
    "# -------------------------------\n",
    "# Build CNN + LSTM Model\n",
    "# -------------------------------\n",
    "cnn = Sequential([\n",
    "    Conv2D(32, (3,3), activation=\"relu\", input_shape=(img_height, img_width, 1)),\n",
    "    MaxPooling2D((2,2)),\n",
    "    Conv2D(64, (3,3), activation=\"relu\"),\n",
    "    MaxPooling2D((2,2)),\n",
    "    Conv2D(128, (3,3), activation=\"relu\"),\n",
    "    MaxPooling2D((2,2)),\n",
    "    Flatten()\n",
    "])\n"
   ]
  },
  {
   "cell_type": "code",
   "execution_count": 5,
   "id": "e8863bc9",
   "metadata": {},
   "outputs": [],
   "source": [
    "# Wrap CNN in TimeDistributed for sequences\n",
    "model = Sequential([\n",
    "    TimeDistributed(cnn, input_shape=(sequence_length, img_height, img_width, 1)),\n",
    "    LSTM(128, return_sequences=False),\n",
    "    Dropout(0.5),\n",
    "    Dense(128, activation=\"relu\"),\n",
    "    Dropout(0.5),\n",
    "    Dense(train_generator.num_classes, activation=\"softmax\")\n",
    "])"
   ]
  },
  {
   "cell_type": "code",
   "execution_count": 6,
   "metadata": {},
   "outputs": [],
   "source": [
    "# -------------------------------\n",
    "# Compile Model\n",
    "# -------------------------------\n",
    "model.compile(\n",
    "    optimizer=Adam(learning_rate=1e-4),\n",
    "    loss=\"categorical_crossentropy\",\n",
    "    metrics=[\"accuracy\"]\n",
    ")"
   ]
  },
  {
   "cell_type": "code",
   "execution_count": 10,
   "id": "843b91fa",
   "metadata": {},
   "outputs": [],
   "source": [
    "from tensorflow.keras.models import Sequential\n",
    "from tensorflow.keras.layers import Conv2D, MaxPooling2D, Flatten, Dense, Dropout\n",
    "\n",
    "model = Sequential([\n",
    "    Conv2D(32, (3,3), activation=\"relu\", input_shape=(48, 48, 1)),  # grayscale\n",
    "    MaxPooling2D(2,2),\n",
    "\n",
    "    Conv2D(64, (3,3), activation=\"relu\"),\n",
    "    MaxPooling2D(2,2),\n",
    "\n",
    "    Conv2D(128, (3,3), activation=\"relu\"),\n",
    "    MaxPooling2D(2,2),\n",
    "\n",
    "    Flatten(),\n",
    "    Dense(128, activation=\"relu\"),\n",
    "    Dropout(0.5),\n",
    "    Dense(train_generator.num_classes, activation=\"softmax\")\n",
    "])\n",
    "\n",
    "model.compile(optimizer=\"adam\", loss=\"categorical_crossentropy\", metrics=[\"accuracy\"])\n"
   ]
  },
  {
   "cell_type": "code",
   "execution_count": 12,
   "id": "5c26e005",
   "metadata": {},
   "outputs": [
    {
     "name": "stdout",
     "output_type": "stream",
     "text": [
      "Epoch 1/15\n",
      "898/898 [==============================] - 39s 43ms/step - loss: 1.6668 - accuracy: 0.3365 - val_loss: 1.5187 - val_accuracy: 0.4217\n",
      "Epoch 2/15\n",
      "898/898 [==============================] - 36s 40ms/step - loss: 1.4940 - accuracy: 0.4220 - val_loss: 1.3769 - val_accuracy: 0.4767\n",
      "Epoch 3/15\n",
      "898/898 [==============================] - 34s 38ms/step - loss: 1.3900 - accuracy: 0.4731 - val_loss: 1.3022 - val_accuracy: 0.5060\n",
      "Epoch 4/15\n",
      "898/898 [==============================] - 35s 39ms/step - loss: 1.3149 - accuracy: 0.5002 - val_loss: 1.2676 - val_accuracy: 0.5210\n",
      "Epoch 5/15\n",
      "898/898 [==============================] - 34s 38ms/step - loss: 1.2631 - accuracy: 0.5235 - val_loss: 1.2439 - val_accuracy: 0.5234\n",
      "Epoch 6/15\n",
      "898/898 [==============================] - 36s 40ms/step - loss: 1.2208 - accuracy: 0.5403 - val_loss: 1.2000 - val_accuracy: 0.5482\n",
      "Epoch 7/15\n",
      "898/898 [==============================] - 36s 40ms/step - loss: 1.1809 - accuracy: 0.5522 - val_loss: 1.1801 - val_accuracy: 0.5497\n",
      "Epoch 8/15\n",
      "898/898 [==============================] - 35s 39ms/step - loss: 1.1475 - accuracy: 0.5671 - val_loss: 1.1815 - val_accuracy: 0.5504\n",
      "Epoch 9/15\n",
      "898/898 [==============================] - 36s 40ms/step - loss: 1.1170 - accuracy: 0.5765 - val_loss: 1.1889 - val_accuracy: 0.5525\n",
      "Epoch 10/15\n",
      "898/898 [==============================] - 35s 39ms/step - loss: 1.0902 - accuracy: 0.5883 - val_loss: 1.1933 - val_accuracy: 0.5518\n",
      "Epoch 11/15\n",
      "898/898 [==============================] - 35s 38ms/step - loss: 1.0629 - accuracy: 0.5973 - val_loss: 1.1831 - val_accuracy: 0.5613\n",
      "Epoch 12/15\n",
      "898/898 [==============================] - 35s 39ms/step - loss: 1.0370 - accuracy: 0.6084 - val_loss: 1.1687 - val_accuracy: 0.5619\n",
      "Epoch 13/15\n",
      "898/898 [==============================] - 34s 38ms/step - loss: 1.0019 - accuracy: 0.6197 - val_loss: 1.1841 - val_accuracy: 0.5663\n",
      "Epoch 14/15\n",
      "898/898 [==============================] - 35s 39ms/step - loss: 0.9791 - accuracy: 0.6251 - val_loss: 1.1674 - val_accuracy: 0.5715\n",
      "Epoch 15/15\n",
      "898/898 [==============================] - 35s 39ms/step - loss: 0.9561 - accuracy: 0.6383 - val_loss: 1.2025 - val_accuracy: 0.5645\n"
     ]
    }
   ],
   "source": [
    "# -------------------------------\n",
    "# Train Model\n",
    "# -------------------------------\n",
    "history = model.fit(\n",
    "    train_generator,\n",
    "    validation_data=validation_generator,\n",
    "    epochs=15\n",
    ")"
   ]
  },
  {
   "cell_type": "code",
   "execution_count": 13,
   "id": "fdbb9e56",
   "metadata": {},
   "outputs": [
    {
     "name": "stdout",
     "output_type": "stream",
     "text": [
      "225/225 [==============================] - 5s 24ms/step - loss: 1.2025 - accuracy: 0.5645\n",
      "✅ Test Accuracy: 56.45%\n"
     ]
    }
   ],
   "source": [
    "\n",
    "# -------------------------------\n",
    "# Evaluate Model\n",
    "# -------------------------------\n",
    "loss, acc = model.evaluate(validation_generator)\n",
    "print(f\"✅ Test Accuracy: {acc*100:.2f}%\")"
   ]
  },
  {
   "cell_type": "code",
   "execution_count": 14,
   "id": "83bf62a8",
   "metadata": {},
   "outputs": [
    {
     "name": "stdout",
     "output_type": "stream",
     "text": [
      "🎉 Hybrid CNN + LSTM Model training completed and saved!\n"
     ]
    }
   ],
   "source": [
    "# -------------------------------\n",
    "# Save Model\n",
    "# -------------------------------\n",
    "model.save(\"cnn_lstm_emotion.h5\")\n",
    "print(\"🎉 Hybrid CNN + LSTM Model training completed and saved!\")"
   ]
  },
  {
   "cell_type": "code",
   "execution_count": 15,
   "metadata": {},
   "outputs": [],
   "source": [
    "model.save_weights(\"hybrid_model.h5\")\n"
   ]
  }
 ],
 "metadata": {
  "kernelspec": {
   "display_name": "Python 3",
   "language": "python",
   "name": "python3"
  },
  "language_info": {
   "codemirror_mode": {
    "name": "ipython",
    "version": 3
   },
   "file_extension": ".py",
   "mimetype": "text/x-python",
   "name": "python",
   "nbconvert_exporter": "python",
   "pygments_lexer": "ipython3",
   "version": "3.10.11"
  }
 },
 "nbformat": 4,
 "nbformat_minor": 5
}
